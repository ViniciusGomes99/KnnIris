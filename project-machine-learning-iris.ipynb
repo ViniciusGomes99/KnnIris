{
 "cells": [
  {
   "cell_type": "markdown",
   "id": "0ce6261a",
   "metadata": {
    "papermill": {
     "duration": 0.012719,
     "end_time": "2022-03-28T18:19:16.574388",
     "exception": false,
     "start_time": "2022-03-28T18:19:16.561669",
     "status": "completed"
    },
    "tags": []
   },
   "source": [
    "## Objetivo do modelo: \n",
    "### Distinguir com base na altura e largura da sépalas e da pétalas das flores qual o tipo de íris (espectro luminoso) que a flor apresenta. No caso as observações estão em cm. Os valores 0 representam a tipo íris setosa, o valor 1 indica o tipo Versicolor e o valor 2 indica o tipo Virginica"
   ]
  },
  {
   "cell_type": "code",
   "execution_count": 1,
   "id": "fd3c589a",
   "metadata": {
    "execution": {
     "iopub.execute_input": "2022-03-28T18:19:16.602319Z",
     "iopub.status.busy": "2022-03-28T18:19:16.601481Z",
     "iopub.status.idle": "2022-03-28T18:19:17.676729Z",
     "shell.execute_reply": "2022-03-28T18:19:17.677217Z",
     "shell.execute_reply.started": "2022-03-28T18:18:28.625365Z"
    },
    "papermill": {
     "duration": 1.090235,
     "end_time": "2022-03-28T18:19:17.677492",
     "exception": false,
     "start_time": "2022-03-28T18:19:16.587257",
     "status": "completed"
    },
    "tags": []
   },
   "outputs": [],
   "source": [
    "# importando as bibliotecas\n",
    "from sklearn import datasets\n",
    "import numpy as np\n",
    "from sklearn.model_selection import train_test_split\n",
    "from sklearn.neighbors import KNeighborsClassifier\n",
    "from sklearn.linear_model import LinearRegression\n",
    "from sklearn.metrics import accuracy_score\n",
    "import matplotlib.pyplot as plt\n",
    "import pandas as pd"
   ]
  },
  {
   "cell_type": "code",
   "execution_count": 2,
   "id": "5a6032f0",
   "metadata": {
    "execution": {
     "iopub.execute_input": "2022-03-28T18:19:17.712495Z",
     "iopub.status.busy": "2022-03-28T18:19:17.711815Z",
     "iopub.status.idle": "2022-03-28T18:19:17.723157Z",
     "shell.execute_reply": "2022-03-28T18:19:17.722638Z",
     "shell.execute_reply.started": "2022-03-28T18:18:29.832765Z"
    },
    "papermill": {
     "duration": 0.030258,
     "end_time": "2022-03-28T18:19:17.723259",
     "exception": false,
     "start_time": "2022-03-28T18:19:17.693001",
     "status": "completed"
    },
    "tags": []
   },
   "outputs": [],
   "source": [
    "# importando e visualizando a base de dados\n",
    "iris = datasets.load_iris()\n",
    "classes = ['Setosa', 'Versicolor', 'Virginica']\n",
    "x = iris.data\n",
    "y = iris.target"
   ]
  },
  {
   "cell_type": "code",
   "execution_count": 3,
   "id": "26859f81",
   "metadata": {
    "execution": {
     "iopub.execute_input": "2022-03-28T18:19:17.759027Z",
     "iopub.status.busy": "2022-03-28T18:19:17.758533Z",
     "iopub.status.idle": "2022-03-28T18:19:17.793926Z",
     "shell.execute_reply": "2022-03-28T18:19:17.793552Z",
     "shell.execute_reply.started": "2022-03-28T18:18:29.846690Z"
    },
    "papermill": {
     "duration": 0.058513,
     "end_time": "2022-03-28T18:19:17.794044",
     "exception": false,
     "start_time": "2022-03-28T18:19:17.735531",
     "status": "completed"
    },
    "tags": []
   },
   "outputs": [
    {
     "data": {
      "text/html": [
       "<div>\n",
       "<style scoped>\n",
       "    .dataframe tbody tr th:only-of-type {\n",
       "        vertical-align: middle;\n",
       "    }\n",
       "\n",
       "    .dataframe tbody tr th {\n",
       "        vertical-align: top;\n",
       "    }\n",
       "\n",
       "    .dataframe thead th {\n",
       "        text-align: right;\n",
       "    }\n",
       "</style>\n",
       "<table border=\"1\" class=\"dataframe\">\n",
       "  <thead>\n",
       "    <tr style=\"text-align: right;\">\n",
       "      <th></th>\n",
       "      <th>sepal length</th>\n",
       "      <th>sepal width</th>\n",
       "      <th>petal length</th>\n",
       "      <th>petal width</th>\n",
       "    </tr>\n",
       "  </thead>\n",
       "  <tbody>\n",
       "    <tr>\n",
       "      <th>0</th>\n",
       "      <td>5.1</td>\n",
       "      <td>3.5</td>\n",
       "      <td>1.4</td>\n",
       "      <td>0.2</td>\n",
       "    </tr>\n",
       "    <tr>\n",
       "      <th>1</th>\n",
       "      <td>4.9</td>\n",
       "      <td>3.0</td>\n",
       "      <td>1.4</td>\n",
       "      <td>0.2</td>\n",
       "    </tr>\n",
       "    <tr>\n",
       "      <th>2</th>\n",
       "      <td>4.7</td>\n",
       "      <td>3.2</td>\n",
       "      <td>1.3</td>\n",
       "      <td>0.2</td>\n",
       "    </tr>\n",
       "    <tr>\n",
       "      <th>3</th>\n",
       "      <td>4.6</td>\n",
       "      <td>3.1</td>\n",
       "      <td>1.5</td>\n",
       "      <td>0.2</td>\n",
       "    </tr>\n",
       "    <tr>\n",
       "      <th>4</th>\n",
       "      <td>5.0</td>\n",
       "      <td>3.6</td>\n",
       "      <td>1.4</td>\n",
       "      <td>0.2</td>\n",
       "    </tr>\n",
       "    <tr>\n",
       "      <th>...</th>\n",
       "      <td>...</td>\n",
       "      <td>...</td>\n",
       "      <td>...</td>\n",
       "      <td>...</td>\n",
       "    </tr>\n",
       "    <tr>\n",
       "      <th>145</th>\n",
       "      <td>6.7</td>\n",
       "      <td>3.0</td>\n",
       "      <td>5.2</td>\n",
       "      <td>2.3</td>\n",
       "    </tr>\n",
       "    <tr>\n",
       "      <th>146</th>\n",
       "      <td>6.3</td>\n",
       "      <td>2.5</td>\n",
       "      <td>5.0</td>\n",
       "      <td>1.9</td>\n",
       "    </tr>\n",
       "    <tr>\n",
       "      <th>147</th>\n",
       "      <td>6.5</td>\n",
       "      <td>3.0</td>\n",
       "      <td>5.2</td>\n",
       "      <td>2.0</td>\n",
       "    </tr>\n",
       "    <tr>\n",
       "      <th>148</th>\n",
       "      <td>6.2</td>\n",
       "      <td>3.4</td>\n",
       "      <td>5.4</td>\n",
       "      <td>2.3</td>\n",
       "    </tr>\n",
       "    <tr>\n",
       "      <th>149</th>\n",
       "      <td>5.9</td>\n",
       "      <td>3.0</td>\n",
       "      <td>5.1</td>\n",
       "      <td>1.8</td>\n",
       "    </tr>\n",
       "  </tbody>\n",
       "</table>\n",
       "<p>150 rows × 4 columns</p>\n",
       "</div>"
      ],
      "text/plain": [
       "     sepal length  sepal width  petal length  petal width\n",
       "0             5.1          3.5           1.4          0.2\n",
       "1             4.9          3.0           1.4          0.2\n",
       "2             4.7          3.2           1.3          0.2\n",
       "3             4.6          3.1           1.5          0.2\n",
       "4             5.0          3.6           1.4          0.2\n",
       "..            ...          ...           ...          ...\n",
       "145           6.7          3.0           5.2          2.3\n",
       "146           6.3          2.5           5.0          1.9\n",
       "147           6.5          3.0           5.2          2.0\n",
       "148           6.2          3.4           5.4          2.3\n",
       "149           5.9          3.0           5.1          1.8\n",
       "\n",
       "[150 rows x 4 columns]"
      ]
     },
     "metadata": {},
     "output_type": "display_data"
    },
    {
     "data": {
      "text/html": [
       "<div>\n",
       "<style scoped>\n",
       "    .dataframe tbody tr th:only-of-type {\n",
       "        vertical-align: middle;\n",
       "    }\n",
       "\n",
       "    .dataframe tbody tr th {\n",
       "        vertical-align: top;\n",
       "    }\n",
       "\n",
       "    .dataframe thead th {\n",
       "        text-align: right;\n",
       "    }\n",
       "</style>\n",
       "<table border=\"1\" class=\"dataframe\">\n",
       "  <thead>\n",
       "    <tr style=\"text-align: right;\">\n",
       "      <th></th>\n",
       "      <th>sepal length</th>\n",
       "      <th>sepal width</th>\n",
       "      <th>petal length</th>\n",
       "      <th>petal width</th>\n",
       "    </tr>\n",
       "  </thead>\n",
       "  <tbody>\n",
       "    <tr>\n",
       "      <th>count</th>\n",
       "      <td>150.000000</td>\n",
       "      <td>150.000000</td>\n",
       "      <td>150.000000</td>\n",
       "      <td>150.000000</td>\n",
       "    </tr>\n",
       "    <tr>\n",
       "      <th>mean</th>\n",
       "      <td>5.843333</td>\n",
       "      <td>3.057333</td>\n",
       "      <td>3.758000</td>\n",
       "      <td>1.199333</td>\n",
       "    </tr>\n",
       "    <tr>\n",
       "      <th>std</th>\n",
       "      <td>0.828066</td>\n",
       "      <td>0.435866</td>\n",
       "      <td>1.765298</td>\n",
       "      <td>0.762238</td>\n",
       "    </tr>\n",
       "    <tr>\n",
       "      <th>min</th>\n",
       "      <td>4.300000</td>\n",
       "      <td>2.000000</td>\n",
       "      <td>1.000000</td>\n",
       "      <td>0.100000</td>\n",
       "    </tr>\n",
       "    <tr>\n",
       "      <th>25%</th>\n",
       "      <td>5.100000</td>\n",
       "      <td>2.800000</td>\n",
       "      <td>1.600000</td>\n",
       "      <td>0.300000</td>\n",
       "    </tr>\n",
       "    <tr>\n",
       "      <th>50%</th>\n",
       "      <td>5.800000</td>\n",
       "      <td>3.000000</td>\n",
       "      <td>4.350000</td>\n",
       "      <td>1.300000</td>\n",
       "    </tr>\n",
       "    <tr>\n",
       "      <th>75%</th>\n",
       "      <td>6.400000</td>\n",
       "      <td>3.300000</td>\n",
       "      <td>5.100000</td>\n",
       "      <td>1.800000</td>\n",
       "    </tr>\n",
       "    <tr>\n",
       "      <th>max</th>\n",
       "      <td>7.900000</td>\n",
       "      <td>4.400000</td>\n",
       "      <td>6.900000</td>\n",
       "      <td>2.500000</td>\n",
       "    </tr>\n",
       "  </tbody>\n",
       "</table>\n",
       "</div>"
      ],
      "text/plain": [
       "       sepal length  sepal width  petal length  petal width\n",
       "count    150.000000   150.000000    150.000000   150.000000\n",
       "mean       5.843333     3.057333      3.758000     1.199333\n",
       "std        0.828066     0.435866      1.765298     0.762238\n",
       "min        4.300000     2.000000      1.000000     0.100000\n",
       "25%        5.100000     2.800000      1.600000     0.300000\n",
       "50%        5.800000     3.000000      4.350000     1.300000\n",
       "75%        6.400000     3.300000      5.100000     1.800000\n",
       "max        7.900000     4.400000      6.900000     2.500000"
      ]
     },
     "execution_count": 3,
     "metadata": {},
     "output_type": "execute_result"
    }
   ],
   "source": [
    "# transformando array em uma dataframe para facilitar a plotagem de gráficos\n",
    "df = pd.DataFrame(x)\n",
    "df.columns = ['sepal length', 'sepal width', 'petal length', 'petal width']\n",
    "display(df)\n",
    "df.describe()"
   ]
  },
  {
   "cell_type": "code",
   "execution_count": 4,
   "id": "2c4a4c13",
   "metadata": {
    "execution": {
     "iopub.execute_input": "2022-03-28T18:19:17.823354Z",
     "iopub.status.busy": "2022-03-28T18:19:17.822878Z",
     "iopub.status.idle": "2022-03-28T18:19:17.994599Z",
     "shell.execute_reply": "2022-03-28T18:19:17.994194Z",
     "shell.execute_reply.started": "2022-03-28T18:18:29.902323Z"
    },
    "papermill": {
     "duration": 0.187454,
     "end_time": "2022-03-28T18:19:17.994710",
     "exception": false,
     "start_time": "2022-03-28T18:19:17.807256",
     "status": "completed"
    },
    "tags": []
   },
   "outputs": [
    {
     "data": {
      "image/png": "[encoded data removed]",
      "text/plain": [
       "<Figure size 432x288 with 1 Axes>"
      ]
     },
     "metadata": {
      "needs_background": "light"
     },
     "output_type": "display_data"
    }
   ],
   "source": [
    "fig, ax = plt.subplots()\n",
    "ax.scatter(df['sepal length'], df['sepal width'])\n",
    "plt.title(\"Plotagem Altura x Largura das Sépalas \")\n",
    "plt.xlabel(\"Altura em cm\" )\n",
    "plt.ylabel(\"Largura em cm\")\n",
    "plt.show()"
   ]
  },
  {
   "cell_type": "code",
   "execution_count": 5,
   "id": "4925b8a6",
   "metadata": {
    "execution": {
     "iopub.execute_input": "2022-03-28T18:19:18.024191Z",
     "iopub.status.busy": "2022-03-28T18:19:18.023728Z",
     "iopub.status.idle": "2022-03-28T18:19:18.159580Z",
     "shell.execute_reply": "2022-03-28T18:19:18.159194Z",
     "shell.execute_reply.started": "2022-03-28T18:18:30.095173Z"
    },
    "papermill": {
     "duration": 0.151384,
     "end_time": "2022-03-28T18:19:18.159675",
     "exception": false,
     "start_time": "2022-03-28T18:19:18.008291",
     "status": "completed"
    },
    "tags": []
   },
   "outputs": [
    {
     "data": {
      "image/png": "[encoded data removed]",
      "text/plain": [
       "<Figure size 432x288 with 1 Axes>"
      ]
     },
     "metadata": {
      "needs_background": "light"
     },
     "output_type": "display_data"
    }
   ],
   "source": [
    "fig, ax = plt.subplots()\n",
    "ax.scatter(df['petal length'], df['sepal width'], color = \"red\")\n",
    "plt.title(\"Plotagem Altura x Largura das Pétalas\")\n",
    "plt.xlabel(\"Altura em cm\" )\n",
    "plt.ylabel(\"Largura em cm\")\n",
    "plt.show()"
   ]
  },
  {
   "cell_type": "code",
   "execution_count": 6,
   "id": "e038f03a",
   "metadata": {
    "execution": {
     "iopub.execute_input": "2022-03-28T18:19:18.190250Z",
     "iopub.status.busy": "2022-03-28T18:19:18.189805Z",
     "iopub.status.idle": "2022-03-28T18:19:19.511288Z",
     "shell.execute_reply": "2022-03-28T18:19:19.511666Z",
     "shell.execute_reply.started": "2022-03-28T18:18:30.243719Z"
    },
    "papermill": {
     "duration": 1.338041,
     "end_time": "2022-03-28T18:19:19.511785",
     "exception": false,
     "start_time": "2022-03-28T18:19:18.173744",
     "status": "completed"
    },
    "tags": []
   },
   "outputs": [
    {
     "data": {
      "text/plain": [
       "array([[<AxesSubplot:xlabel='sepal length', ylabel='sepal length'>,\n",
       "        <AxesSubplot:xlabel='sepal width', ylabel='sepal length'>,\n",
       "        <AxesSubplot:xlabel='petal length', ylabel='sepal length'>,\n",
       "        <AxesSubplot:xlabel='petal width', ylabel='sepal length'>],\n",
       "       [<AxesSubplot:xlabel='sepal length', ylabel='sepal width'>,\n",
       "        <AxesSubplot:xlabel='sepal width', ylabel='sepal width'>,\n",
       "        <AxesSubplot:xlabel='petal length', ylabel='sepal width'>,\n",
       "        <AxesSubplot:xlabel='petal width', ylabel='sepal width'>],\n",
       "       [<AxesSubplot:xlabel='sepal length', ylabel='petal length'>,\n",
       "        <AxesSubplot:xlabel='sepal width', ylabel='petal length'>,\n",
       "        <AxesSubplot:xlabel='petal length', ylabel='petal length'>,\n",
       "        <AxesSubplot:xlabel='petal width', ylabel='petal length'>],\n",
       "       [<AxesSubplot:xlabel='sepal length', ylabel='petal width'>,\n",
       "        <AxesSubplot:xlabel='sepal width', ylabel='petal width'>,\n",
       "        <AxesSubplot:xlabel='petal length', ylabel='petal width'>,\n",
       "        <AxesSubplot:xlabel='petal width', ylabel='petal width'>]],\n",
       "      dtype=object)"
      ]
     },
     "execution_count": 6,
     "metadata": {},
     "output_type": "execute_result"
    },
    {
     "data": {
      "image/png": "[encoded data removed]",
      "text/plain": [
       "<Figure size 1080x1080 with 16 Axes>"
      ]
     },
     "metadata": {
      "needs_background": "light"
     },
     "output_type": "display_data"
    }
   ],
   "source": [
    "pd.plotting.scatter_matrix(df, figsize=(15,15), alpha = 0.9)"
   ]
  },
  {
   "cell_type": "code",
   "execution_count": 7,
   "id": "e36e67ce",
   "metadata": {
    "execution": {
     "iopub.execute_input": "2022-03-28T18:19:19.549258Z",
     "iopub.status.busy": "2022-03-28T18:19:19.548755Z",
     "iopub.status.idle": "2022-03-28T18:19:19.551749Z",
     "shell.execute_reply": "2022-03-28T18:19:19.552287Z",
     "shell.execute_reply.started": "2022-03-28T18:18:31.348459Z"
    },
    "papermill": {
     "duration": 0.023206,
     "end_time": "2022-03-28T18:19:19.552449",
     "exception": false,
     "start_time": "2022-03-28T18:19:19.529243",
     "status": "completed"
    },
    "tags": []
   },
   "outputs": [],
   "source": [
    "# seperando a nossa base de teste em 80% treino e em 20% teste\n",
    "x_train, x_test, y_train, y_test = train_test_split(x,y, test_size=0.2)"
   ]
  },
  {
   "cell_type": "code",
   "execution_count": 8,
   "id": "27289547",
   "metadata": {
    "execution": {
     "iopub.execute_input": "2022-03-28T18:19:19.605644Z",
     "iopub.status.busy": "2022-03-28T18:19:19.604992Z",
     "iopub.status.idle": "2022-03-28T18:19:19.618970Z",
     "shell.execute_reply": "2022-03-28T18:19:19.619586Z",
     "shell.execute_reply.started": "2022-03-28T18:18:31.356428Z"
    },
    "papermill": {
     "duration": 0.042106,
     "end_time": "2022-03-28T18:19:19.619735",
     "exception": false,
     "start_time": "2022-03-28T18:19:19.577629",
     "status": "completed"
    },
    "tags": []
   },
   "outputs": [
    {
     "name": "stdout",
     "output_type": "stream",
     "text": [
      "(120, 4)\n",
      "(30, 4)\n"
     ]
    }
   ],
   "source": [
    "# verificando se a função separou corretamente em base de treino e base de teste\n",
    "print(x_train.shape)\n",
    "print(x_test.shape)"
   ]
  },
  {
   "cell_type": "code",
   "execution_count": 9,
   "id": "0c9e4cf0",
   "metadata": {
    "execution": {
     "iopub.execute_input": "2022-03-28T18:19:19.673956Z",
     "iopub.status.busy": "2022-03-28T18:19:19.673329Z",
     "iopub.status.idle": "2022-03-28T18:19:19.682277Z",
     "shell.execute_reply": "2022-03-28T18:19:19.682801Z",
     "shell.execute_reply.started": "2022-03-28T18:18:31.369506Z"
    },
    "papermill": {
     "duration": 0.037663,
     "end_time": "2022-03-28T18:19:19.682959",
     "exception": false,
     "start_time": "2022-03-28T18:19:19.645296",
     "status": "completed"
    },
    "tags": []
   },
   "outputs": [
    {
     "name": "stdout",
     "output_type": "stream",
     "text": [
      "[0 1 1 2 0 2 1 0 0 2 2 2 0 1 1 2 2 1 1 1 1 2 1 2 0 0 0 0 1 2]\n",
      "[0 1 1 2 0 2 1 0 0 2 2 2 0 1 1 2 2 1 1 1 1 2 1 2 0 0 0 0 1 2]\n",
      "1.0\n"
     ]
    }
   ],
   "source": [
    "# definindo o modelo que será usado.\n",
    "# Vamos usar o modelo K-Nearest Neighbors. Esse modelo consegue classificas as íris das flores com base em \n",
    "# um algoritmo que procura seu \"vizinho\" mais próximo com base nas variáveis da base de treinamento.\n",
    "\n",
    "knn = KNeighborsClassifier(n_neighbors=1)\n",
    "knn.fit(x_train, y_train)\n",
    "prediction = knn.predict(x_test)\n",
    "print(prediction)\n",
    "print(y_test)\n",
    "acc = accuracy_score(y_test, prediction)\n",
    "print(acc)"
   ]
  },
  {
   "cell_type": "code",
   "execution_count": 10,
   "id": "b08137ab",
   "metadata": {
    "execution": {
     "iopub.execute_input": "2022-03-28T18:19:19.737805Z",
     "iopub.status.busy": "2022-03-28T18:19:19.737191Z",
     "iopub.status.idle": "2022-03-28T18:19:19.745749Z",
     "shell.execute_reply": "2022-03-28T18:19:19.745289Z",
     "shell.execute_reply.started": "2022-03-28T18:18:31.392932Z"
    },
    "papermill": {
     "duration": 0.036791,
     "end_time": "2022-03-28T18:19:19.745848",
     "exception": false,
     "start_time": "2022-03-28T18:19:19.709057",
     "status": "completed"
    },
    "tags": []
   },
   "outputs": [
    {
     "name": "stdout",
     "output_type": "stream",
     "text": [
      "Setosa\n",
      "Versicolor\n",
      "Versicolor\n",
      "Virginica\n",
      "Setosa\n",
      "Virginica\n",
      "Versicolor\n",
      "Setosa\n",
      "Setosa\n",
      "Virginica\n",
      "Virginica\n",
      "Virginica\n",
      "Setosa\n",
      "Versicolor\n",
      "Versicolor\n",
      "Virginica\n",
      "Virginica\n",
      "Versicolor\n",
      "Versicolor\n",
      "Versicolor\n",
      "Versicolor\n",
      "Virginica\n",
      "Versicolor\n",
      "Virginica\n",
      "Setosa\n",
      "Setosa\n",
      "Setosa\n",
      "Setosa\n",
      "Versicolor\n",
      "Virginica\n"
     ]
    }
   ],
   "source": [
    "# Podemos verificar as respostas que o modelo entregou com a seguinte repetição:\n",
    "for i in range(len(prediction)):\n",
    "    print(classes[prediction[i]])"
   ]
  },
  {
   "cell_type": "code",
   "execution_count": 11,
   "id": "636b10fd",
   "metadata": {
    "execution": {
     "iopub.execute_input": "2022-03-28T18:19:19.788820Z",
     "iopub.status.busy": "2022-03-28T18:19:19.787205Z",
     "iopub.status.idle": "2022-03-28T18:19:19.793646Z",
     "shell.execute_reply": "2022-03-28T18:19:19.793062Z",
     "shell.execute_reply.started": "2022-03-28T18:18:31.406855Z"
    },
    "papermill": {
     "duration": 0.029301,
     "end_time": "2022-03-28T18:19:19.793780",
     "exception": false,
     "start_time": "2022-03-28T18:19:19.764479",
     "status": "completed"
    },
    "tags": []
   },
   "outputs": [
    {
     "name": "stdout",
     "output_type": "stream",
     "text": [
      "[0 1 1 2 0 2 1 0 0 2 2 2 0 1 1 2 2 1 1 1 1 2 1 2 0 0 0 0 1 2]\n",
      "[0 1 1 2 0 2 1 0 0 2 2 2 0 1 1 2 2 1 1 1 1 2 1 2 0 0 0 0 1 2]\n",
      "A acurácia do modelo foi de:  1.0\n"
     ]
    }
   ],
   "source": [
    "#Podemos verificar os resultados comparados com os valores realmente esperados.\n",
    "#Vemos que o nosso modelo possui uma acurácia de 93,3%, ou seja um valor consideravelmente alto!\n",
    "prediction = knn.predict(x_test)\n",
    "print(prediction)\n",
    "print(y_test)\n",
    "acc = accuracy_score(y_test, prediction)\n",
    "print(\"A acurácia do modelo foi de: \", acc)"
   ]
  },
  {
   "cell_type": "code",
   "execution_count": 12,
   "id": "c662796d",
   "metadata": {
    "execution": {
     "iopub.execute_input": "2022-03-28T18:19:19.837356Z",
     "iopub.status.busy": "2022-03-28T18:19:19.834249Z",
     "iopub.status.idle": "2022-03-28T18:19:19.840354Z",
     "shell.execute_reply": "2022-03-28T18:19:19.839871Z",
     "shell.execute_reply.started": "2022-03-28T18:18:31.427128Z"
    },
    "papermill": {
     "duration": 0.027192,
     "end_time": "2022-03-28T18:19:19.840469",
     "exception": false,
     "start_time": "2022-03-28T18:19:19.813277",
     "status": "completed"
    },
    "tags": []
   },
   "outputs": [
    {
     "name": "stdout",
     "output_type": "stream",
     "text": [
      "[2]\n",
      "Virginica\n"
     ]
    }
   ],
   "source": [
    "X_new = np.array([[50,10,1,0.2]])\n",
    "prediction1 = knn.predict(X_new)\n",
    "print(prediction1)\n",
    "print(classes[2])\n",
    "# o nosso algoritmo classificou a nossa nova observação como íris setosa\n"
   ]
  },
  {
   "cell_type": "code",
   "execution_count": 13,
   "id": "419c5a42",
   "metadata": {
    "execution": {
     "iopub.execute_input": "2022-03-28T18:19:19.893358Z",
     "iopub.status.busy": "2022-03-28T18:19:19.892866Z",
     "iopub.status.idle": "2022-03-28T18:19:19.897847Z",
     "shell.execute_reply": "2022-03-28T18:19:19.898228Z",
     "shell.execute_reply.started": "2022-03-28T18:18:31.448332Z"
    },
    "papermill": {
     "duration": 0.038581,
     "end_time": "2022-03-28T18:19:19.898349",
     "exception": false,
     "start_time": "2022-03-28T18:19:19.859768",
     "status": "completed"
    },
    "tags": []
   },
   "outputs": [
    {
     "data": {
      "text/html": [
       "<div>\n",
       "<style scoped>\n",
       "    .dataframe tbody tr th:only-of-type {\n",
       "        vertical-align: middle;\n",
       "    }\n",
       "\n",
       "    .dataframe tbody tr th {\n",
       "        vertical-align: top;\n",
       "    }\n",
       "\n",
       "    .dataframe thead th {\n",
       "        text-align: right;\n",
       "    }\n",
       "</style>\n",
       "<table border=\"1\" class=\"dataframe\">\n",
       "  <thead>\n",
       "    <tr style=\"text-align: right;\">\n",
       "      <th></th>\n",
       "      <th>y_test</th>\n",
       "      <th>Predictions</th>\n",
       "      <th>Validation</th>\n",
       "    </tr>\n",
       "  </thead>\n",
       "  <tbody>\n",
       "    <tr>\n",
       "      <th>0</th>\n",
       "      <td>0</td>\n",
       "      <td>0</td>\n",
       "      <td>True</td>\n",
       "    </tr>\n",
       "    <tr>\n",
       "      <th>1</th>\n",
       "      <td>1</td>\n",
       "      <td>1</td>\n",
       "      <td>True</td>\n",
       "    </tr>\n",
       "    <tr>\n",
       "      <th>2</th>\n",
       "      <td>1</td>\n",
       "      <td>1</td>\n",
       "      <td>True</td>\n",
       "    </tr>\n",
       "    <tr>\n",
       "      <th>3</th>\n",
       "      <td>2</td>\n",
       "      <td>2</td>\n",
       "      <td>True</td>\n",
       "    </tr>\n",
       "    <tr>\n",
       "      <th>4</th>\n",
       "      <td>0</td>\n",
       "      <td>0</td>\n",
       "      <td>True</td>\n",
       "    </tr>\n",
       "    <tr>\n",
       "      <th>5</th>\n",
       "      <td>2</td>\n",
       "      <td>2</td>\n",
       "      <td>True</td>\n",
       "    </tr>\n",
       "    <tr>\n",
       "      <th>6</th>\n",
       "      <td>1</td>\n",
       "      <td>1</td>\n",
       "      <td>True</td>\n",
       "    </tr>\n",
       "    <tr>\n",
       "      <th>7</th>\n",
       "      <td>0</td>\n",
       "      <td>0</td>\n",
       "      <td>True</td>\n",
       "    </tr>\n",
       "    <tr>\n",
       "      <th>8</th>\n",
       "      <td>0</td>\n",
       "      <td>0</td>\n",
       "      <td>True</td>\n",
       "    </tr>\n",
       "    <tr>\n",
       "      <th>9</th>\n",
       "      <td>2</td>\n",
       "      <td>2</td>\n",
       "      <td>True</td>\n",
       "    </tr>\n",
       "    <tr>\n",
       "      <th>10</th>\n",
       "      <td>2</td>\n",
       "      <td>2</td>\n",
       "      <td>True</td>\n",
       "    </tr>\n",
       "    <tr>\n",
       "      <th>11</th>\n",
       "      <td>2</td>\n",
       "      <td>2</td>\n",
       "      <td>True</td>\n",
       "    </tr>\n",
       "    <tr>\n",
       "      <th>12</th>\n",
       "      <td>0</td>\n",
       "      <td>0</td>\n",
       "      <td>True</td>\n",
       "    </tr>\n",
       "    <tr>\n",
       "      <th>13</th>\n",
       "      <td>1</td>\n",
       "      <td>1</td>\n",
       "      <td>True</td>\n",
       "    </tr>\n",
       "    <tr>\n",
       "      <th>14</th>\n",
       "      <td>1</td>\n",
       "      <td>1</td>\n",
       "      <td>True</td>\n",
       "    </tr>\n",
       "    <tr>\n",
       "      <th>15</th>\n",
       "      <td>2</td>\n",
       "      <td>2</td>\n",
       "      <td>True</td>\n",
       "    </tr>\n",
       "    <tr>\n",
       "      <th>16</th>\n",
       "      <td>2</td>\n",
       "      <td>2</td>\n",
       "      <td>True</td>\n",
       "    </tr>\n",
       "    <tr>\n",
       "      <th>17</th>\n",
       "      <td>1</td>\n",
       "      <td>1</td>\n",
       "      <td>True</td>\n",
       "    </tr>\n",
       "    <tr>\n",
       "      <th>18</th>\n",
       "      <td>1</td>\n",
       "      <td>1</td>\n",
       "      <td>True</td>\n",
       "    </tr>\n",
       "    <tr>\n",
       "      <th>19</th>\n",
       "      <td>1</td>\n",
       "      <td>1</td>\n",
       "      <td>True</td>\n",
       "    </tr>\n",
       "    <tr>\n",
       "      <th>20</th>\n",
       "      <td>1</td>\n",
       "      <td>1</td>\n",
       "      <td>True</td>\n",
       "    </tr>\n",
       "    <tr>\n",
       "      <th>21</th>\n",
       "      <td>2</td>\n",
       "      <td>2</td>\n",
       "      <td>True</td>\n",
       "    </tr>\n",
       "    <tr>\n",
       "      <th>22</th>\n",
       "      <td>1</td>\n",
       "      <td>1</td>\n",
       "      <td>True</td>\n",
       "    </tr>\n",
       "    <tr>\n",
       "      <th>23</th>\n",
       "      <td>2</td>\n",
       "      <td>2</td>\n",
       "      <td>True</td>\n",
       "    </tr>\n",
       "    <tr>\n",
       "      <th>24</th>\n",
       "      <td>0</td>\n",
       "      <td>0</td>\n",
       "      <td>True</td>\n",
       "    </tr>\n",
       "    <tr>\n",
       "      <th>25</th>\n",
       "      <td>0</td>\n",
       "      <td>0</td>\n",
       "      <td>True</td>\n",
       "    </tr>\n",
       "    <tr>\n",
       "      <th>26</th>\n",
       "      <td>0</td>\n",
       "      <td>0</td>\n",
       "      <td>True</td>\n",
       "    </tr>\n",
       "    <tr>\n",
       "      <th>27</th>\n",
       "      <td>0</td>\n",
       "      <td>0</td>\n",
       "      <td>True</td>\n",
       "    </tr>\n",
       "    <tr>\n",
       "      <th>28</th>\n",
       "      <td>1</td>\n",
       "      <td>1</td>\n",
       "      <td>True</td>\n",
       "    </tr>\n",
       "    <tr>\n",
       "      <th>29</th>\n",
       "      <td>2</td>\n",
       "      <td>2</td>\n",
       "      <td>True</td>\n",
       "    </tr>\n",
       "  </tbody>\n",
       "</table>\n",
       "</div>"
      ],
      "text/plain": [
       "    y_test  Predictions  Validation\n",
       "0        0            0        True\n",
       "1        1            1        True\n",
       "2        1            1        True\n",
       "3        2            2        True\n",
       "4        0            0        True\n",
       "5        2            2        True\n",
       "6        1            1        True\n",
       "7        0            0        True\n",
       "8        0            0        True\n",
       "9        2            2        True\n",
       "10       2            2        True\n",
       "11       2            2        True\n",
       "12       0            0        True\n",
       "13       1            1        True\n",
       "14       1            1        True\n",
       "15       2            2        True\n",
       "16       2            2        True\n",
       "17       1            1        True\n",
       "18       1            1        True\n",
       "19       1            1        True\n",
       "20       1            1        True\n",
       "21       2            2        True\n",
       "22       1            1        True\n",
       "23       2            2        True\n",
       "24       0            0        True\n",
       "25       0            0        True\n",
       "26       0            0        True\n",
       "27       0            0        True\n",
       "28       1            1        True\n",
       "29       2            2        True"
      ]
     },
     "metadata": {},
     "output_type": "display_data"
    },
    {
     "data": {
      "text/plain": [
       "(30, 3)"
      ]
     },
     "execution_count": 13,
     "metadata": {},
     "output_type": "execute_result"
    }
   ],
   "source": [
    "comp = pd.DataFrame(y_test)\n",
    "comp.columns = ['y_test']\n",
    "comp['Predictions'] = prediction\n",
    "comp['Validation'] = comp['y_test'] == comp['Predictions']\n",
    "display(comp)\n",
    "array = comp.to_numpy()\n",
    "np.shape(array)"
   ]
  }
 ],
 "metadata": {
  "kernelspec": {
   "display_name": "Python 3",
   "language": "python",
   "name": "python3"
  },
  "language_info": {
   "codemirror_mode": {
    "name": "ipython",
    "version": 3
   },
   "file_extension": ".py",
   "mimetype": "text/x-python",
   "name": "python",
   "nbconvert_exporter": "python",
   "pygments_lexer": "ipython3",
   "version": "3.7.12"
  },
  "papermill": {
   "default_parameters": {},
   "duration": 11.274521,
   "end_time": "2022-03-28T18:19:20.726735",
   "environment_variables": {},
   "exception": null,
   "input_path": "__notebook__.ipynb",
   "output_path": "__notebook__.ipynb",
   "parameters": {},
   "start_time": "2022-03-28T18:19:09.452214",
   "version": "2.3.3"
  }
 },
 "nbformat": 4,
 "nbformat_minor": 5
}
